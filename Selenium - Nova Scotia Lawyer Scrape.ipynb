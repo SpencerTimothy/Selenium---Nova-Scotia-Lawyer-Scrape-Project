{
 "cells": [
  {
   "cell_type": "markdown",
   "id": "9a348f6b",
   "metadata": {},
   "source": [
    "<center><h1>Selenium Web Scraping Project</h1></center>\n",
    "<center><h2><i>This project extracts data from the Nova Scocia Barristers' Society website</i></h2></center>\n",
    "<center><h4><b><i><a href=\"https://members.nsbs.org/NSBSWEB/Lawyer_Search/Search_Page.aspx\" target=\"_blank\">https://members.nsbs.org/NSBSWEB/Lawyer_Search/Search_Page.aspx</a></i></b></h4></center>"
   ]
  },
  {
   "cell_type": "code",
   "execution_count": 1,
   "id": "eb80eea9",
   "metadata": {},
   "outputs": [],
   "source": [
    "# Import Selenium 'webdriver' for navigation\n",
    "from selenium import webdriver\n",
    "# Import 'By' to find elements by tage name, id, etc. on webpage\n",
    "from selenium.webdriver.common.by import By\n",
    "# Import 'Keys' to send enter keyboard values programmatically\n",
    "from selenium.webdriver.common.keys import Keys\n",
    "# Import 'time' to allow code to 'sleep' in order to allow page to load\n",
    "import time\n",
    "# import regular expressions for data cleaning\n",
    "import re\n",
    "# Import 'pandas' for data analysis\n",
    "import pandas as pd"
   ]
  },
  {
   "cell_type": "code",
   "execution_count": 2,
   "id": "cff49dd5",
   "metadata": {},
   "outputs": [],
   "source": [
    "# Set webdriver, open browser, and navigate to website\n",
    "\n",
    "url = \"https://members.nsbs.org/NSBSWEB/Lawyer_Search/Search_Page.aspx\"\n",
    "driver = webdriver.Chrome()\n",
    "driver.get(url)\n",
    "\n",
    "# Make sure all elements are loaded before any other functions are ran\n",
    "driver.implicitly_wait(10)"
   ]
  },
  {
   "cell_type": "code",
   "execution_count": 3,
   "id": "4f701f97",
   "metadata": {},
   "outputs": [],
   "source": [
    "# Click search to show search results\n",
    "\n",
    "search = driver.find_element(By.ID, \"ctl01_TemplateBody_WebPartManager1_gwpciNewQueryMenuCommon_ciNewQueryMenuCommon_ResultsGrid_Sheet0_SubmitButton\")\n",
    "\n",
    "search.click()"
   ]
  },
  {
   "cell_type": "code",
   "execution_count": 4,
   "id": "9cdc4068",
   "metadata": {},
   "outputs": [],
   "source": [
    "# Enter the amount of links per page in 'views per page' input box \n",
    "# At the time of running this code, there are 3956 lawers in this database\n",
    "\n",
    "views = driver.find_element(By.ID, \"ctl01_TemplateBody_WebPartManager1_gwpciNewQueryMenuCommon_ciNewQueryMenuCommon_ResultsGrid_Grid1_ctl00_ctl02_ctl00_ChangePageSizeTextBox\")\n",
    "\n",
    "views.send_keys('4000')"
   ]
  },
  {
   "cell_type": "code",
   "execution_count": 5,
   "id": "69f4b691",
   "metadata": {},
   "outputs": [],
   "source": [
    "# Make the change that shows all 3956 rows - Click the change button and wait for results to load\n",
    "\n",
    "change = driver.find_element(By.ID, \"ctl01_TemplateBody_WebPartManager1_gwpciNewQueryMenuCommon_ciNewQueryMenuCommon_ResultsGrid_Grid1_ctl00_ctl02_ctl00_ChangePageSizeLinkButton\")\n",
    "\n",
    "change.click()\n",
    "\n",
    "time.sleep(5)"
   ]
  },
  {
   "cell_type": "code",
   "execution_count": 6,
   "id": "c7f48f68",
   "metadata": {},
   "outputs": [],
   "source": [
    "# Search all columns on the first page for all the last name\n",
    "\n",
    "# Find the table element\n",
    "table = driver.find_element(By.TAG_NAME, 'table')\n",
    "\n",
    "# Find all the rows in the table\n",
    "rows = table.find_elements(By.TAG_NAME, 'tr')\n",
    "\n",
    "last_name = []\n",
    "# Iterate through each row\n",
    "for row in rows:\n",
    "    # Find all the cells in the row\n",
    "    cells = row.find_elements(By.TAG_NAME,'td')\n",
    "\n",
    "    # Check if the row has at least two cells (columns)\n",
    "    if len(cells) >= 2:\n",
    "        # Get the second cell (index 1) and print its text\n",
    "        second_column_text = cells[1].text\n",
    "#         print(second_column_text)\n",
    "        last_name.append(second_column_text)"
   ]
  },
  {
   "cell_type": "code",
   "execution_count": 7,
   "id": "844ab60d",
   "metadata": {},
   "outputs": [
    {
     "data": {
      "text/plain": [
       "3952"
      ]
     },
     "execution_count": 7,
     "metadata": {},
     "output_type": "execute_result"
    }
   ],
   "source": [
    "# Check the number of last name's found\n",
    "len(last_name)"
   ]
  },
  {
   "cell_type": "code",
   "execution_count": 8,
   "id": "ee290690",
   "metadata": {},
   "outputs": [],
   "source": [
    "# Search the first page for all the first names\n",
    "\n",
    "first_name = []\n",
    "# Iterate through each row\n",
    "for row in rows:\n",
    "    # Find all the cells in the row\n",
    "    cells = row.find_elements(By.TAG_NAME,'td')\n",
    "\n",
    "    # Check if the row has at least three cells (columns) \n",
    "    if len(cells) >= 3:\n",
    "        third_column_text = cells[2].text\n",
    "#         print(third_column_text)\n",
    "        first_name.append(third_column_text)"
   ]
  },
  {
   "cell_type": "code",
   "execution_count": 9,
   "id": "d76b68ee",
   "metadata": {},
   "outputs": [
    {
     "data": {
      "text/plain": [
       "3952"
      ]
     },
     "execution_count": 9,
     "metadata": {},
     "output_type": "execute_result"
    }
   ],
   "source": [
    "# Check the number of first name's found\n",
    "len(first_name)"
   ]
  },
  {
   "cell_type": "code",
   "execution_count": 10,
   "id": "27188fc2",
   "metadata": {},
   "outputs": [],
   "source": [
    "# Get a list of all the urls for each lawyer's page\n",
    "\n",
    "links = driver.find_elements(By.CSS_SELECTOR, \"a[title='View Details']\")"
   ]
  },
  {
   "cell_type": "code",
   "execution_count": 11,
   "id": "8a02bb80",
   "metadata": {},
   "outputs": [
    {
     "data": {
      "text/plain": [
       "3952"
      ]
     },
     "execution_count": 11,
     "metadata": {},
     "output_type": "execute_result"
    }
   ],
   "source": [
    "# Make sure we have loaded all rows\n",
    "len(links)"
   ]
  },
  {
   "cell_type": "code",
   "execution_count": 12,
   "id": "cde734d0",
   "metadata": {},
   "outputs": [],
   "source": [
    "# Extract the 'href' from each element found \n",
    "\n",
    "urls = []\n",
    "for x in links:\n",
    "    url_list = x.get_attribute('href')\n",
    "    urls.append(url_list)"
   ]
  },
  {
   "cell_type": "code",
   "execution_count": 13,
   "id": "c64e09d5",
   "metadata": {},
   "outputs": [],
   "source": [
    "# Extract data from each lawyer's url and add it to lists\n",
    "\n",
    "# Initialize empty lists to store data\n",
    "full_names = []\n",
    "calls_to_bar = []\n",
    "contacts = []\n",
    "\n",
    "# Iterate over each URL in the 'urls' list\n",
    "for link in urls:\n",
    "    # Access the URL using a web driver (assumed to be defined and set up beforehand)\n",
    "    driver.get(link)\n",
    "    \n",
    "    # Find the element on the page with the specified ID for name, call, and contact data\n",
    "    data_name = driver.find_element(By.ID, \"ctl01_TemplateBody_WebPartManager1_gwpciNewQueryMenuCommon5_ciNewQueryMenuCommon5_ResultsGrid_Grid1_ctl00\")\n",
    "    data_call = driver.find_element(By.ID, \"ctl01_TemplateBody_WebPartManager1_gwpciNewQueryMenuCommon4_ciNewQueryMenuCommon4_ResultsGrid_Grid1_ctl00\")\n",
    "    data_contact = driver.find_element(By.ID, \"ctl01_TemplateBody_WebPartManager1_gwpciNewQueryMenuCommon3_ciNewQueryMenuCommon3_ResultsGrid_Grid1_ctl00\")\n",
    "    \n",
    "    # Extract the text from the name, call, and contact elements and append to respective lists\n",
    "    full_names.append(data_name.text)\n",
    "    calls_to_bar.append(data_call.text)\n",
    "    contacts.append(data_contact.text)  "
   ]
  },
  {
   "cell_type": "code",
   "execution_count": 14,
   "id": "3d32b5ff",
   "metadata": {},
   "outputs": [],
   "source": [
    "# Clean the data that contains the names of each lawyer\n",
    "\n",
    "# Create empty list to store new values\n",
    "full_name = []\n",
    "\n",
    "# Loop through list and clear unnecessary characters\n",
    "for names in full_names:\n",
    "    name = names.replace('Name\\n', '')\n",
    "    full_name.append(name)"
   ]
  },
  {
   "cell_type": "code",
   "execution_count": 15,
   "id": "966d9a74",
   "metadata": {},
   "outputs": [],
   "source": [
    "# Find the call to the Bar date for each lawyer\n",
    "\n",
    "# Initialize an empty list to store call to the Bar dates\n",
    "call_to_bar = []\n",
    "\n",
    "# Define a regular expression pattern to match the date format\n",
    "date_pattern = r'(\\w{3} \\d{2}, \\d{4})'\n",
    "\n",
    "# Define a value to use when no date is found\n",
    "none_value = 'None'\n",
    "\n",
    "# Iterate over each text in the 'calls_to_bar' list\n",
    "for text in calls_to_bar:\n",
    "    # Search for a match of the date pattern in the text\n",
    "    match = re.search(date_pattern, text)\n",
    "    \n",
    "    # If a match is found, append the matched date to the 'call_to_bar' list\n",
    "    if match:\n",
    "        call_to_bar.append(match.group(1))\n",
    "    # If no match is found, append the 'none_value' to the 'call_to_bar' list\n",
    "    else:\n",
    "        call_to_bar.append(none_value)"
   ]
  },
  {
   "cell_type": "code",
   "execution_count": 16,
   "id": "099b5555",
   "metadata": {},
   "outputs": [],
   "source": [
    "# Extracts the contact information by splitting each contact at the '\\nPhone #:' substring,\n",
    "# taking the first part, removing 'Primary Address', and stripping any leading/trailing whitespace.\n",
    "# This is done for each contact in the 'contacts' list using a list comprehension.\n",
    "\n",
    "extracted_contact = [contact.split('\\nPhone #:')[0].replace('Primary Address', '').strip() for contact in contacts]"
   ]
  },
  {
   "cell_type": "code",
   "execution_count": 17,
   "id": "253ed120",
   "metadata": {},
   "outputs": [],
   "source": [
    "# Extract the name and address of the firm for each lawyer\n",
    "\n",
    "# Initialize empty lists to store firm names and addresses\n",
    "firm_name = []\n",
    "address = []\n",
    "\n",
    "# Iterate over each element in the 'extracted_contact' list\n",
    "for element in extracted_contact:\n",
    "    # Split the element at the first occurrence of '\\n'\n",
    "    split_data = element.split('\\n', 1)\n",
    "    \n",
    "    # Append the first part of the split data (firm name) to the 'firm_name' list\n",
    "    firm_name.append(split_data[0])\n",
    "    \n",
    "    # Check if there is a second part of the split data (address)\n",
    "    if len(split_data) > 1:\n",
    "        # If there is, replace '\\n' with ', ' in the address and append it to the 'address' list\n",
    "        address.append(split_data[1].replace('\\n', ', '))\n",
    "    else:\n",
    "        # If there is no second part, append an empty string to the 'address' list\n",
    "        address.append('')\n",
    "\n",
    "        \n",
    "# NEXT TIME USE SOMETHING LIKE THIS TO EXTRACT DATA FROM A RAW STRING -- THIS EXTRACTS ADDRESS \n",
    "\n",
    "# new_thing = []\n",
    "# for thing in contacts:\n",
    "#     first = thing.find('\\n')\n",
    "#     second = thing.find(\"\\n\", first + 1)\n",
    "# #     third = thing.find('\\nPhone #:')\n",
    "#     if first != -1 and second != -1:\n",
    "#         start = second \n",
    "#         end = thing.find('\\nPhone #:')\n",
    "#         goof = thing[start:end].strip()  # Extract the address and remove leading/trailing spaces\n",
    "#         new_thing.append(goof)\n",
    "#     else:\n",
    "#         new_thing.append(\"\")"
   ]
  },
  {
   "cell_type": "code",
   "execution_count": 18,
   "id": "1e746e93",
   "metadata": {},
   "outputs": [],
   "source": [
    "# Extract the email for each lawyer\n",
    "\n",
    "# Initialize an empty list to store email and website information\n",
    "email_website = []\n",
    "\n",
    "# Iterate over each element in the 'contacts' list\n",
    "for element in contacts:\n",
    "    # Split the element at the first occurrence of 'Email'\n",
    "    split_data = element.split('Email', 1)\n",
    "    \n",
    "    # Check if there is a second part of the split data (email and website)\n",
    "    if len(split_data) > 1:\n",
    "        # If there is, append \"Email\" concatenated with the second part to the 'email_website' list\n",
    "        email_website.append(\"Email\" + split_data[1])\n",
    "    else:\n",
    "        # If there is no second part, append an empty string to the 'email_website' list\n",
    "        email_website.append('')"
   ]
  },
  {
   "cell_type": "code",
   "execution_count": 19,
   "id": "87372868",
   "metadata": {},
   "outputs": [],
   "source": [
    "# Clean up some values in the email and website data\n",
    "\n",
    "# Define the replacements as a dictionary\n",
    "replacements = {\n",
    "    \"\\n\": \", \",     # Replace newline characters with comma and space\n",
    "    \"Email:\": \"\",   # Remove the string 'Email:'\n",
    "    \"Website:\": \"\", # Remove the string 'Website:'\n",
    "    \"\\\\\\\\\": \"//\",   # Replace '\\\\' with '//'\n",
    "    # \" \": \"\"       # (Commented out) Remove all occurrences of space\n",
    "}\n",
    "\n",
    "# Iterate over each element in the 'email_website' list\n",
    "for i in range(len(email_website)):\n",
    "    # Iterate over each key-value pair in the 'replacements' dictionary\n",
    "    for old_value, new_value in replacements.items():\n",
    "        # Replace each occurrence of the 'old_value' with the 'new_value'\n",
    "        email_website[i] = email_website[i].replace(old_value, new_value)"
   ]
  },
  {
   "cell_type": "code",
   "execution_count": 20,
   "id": "9dd64735",
   "metadata": {},
   "outputs": [],
   "source": [
    "# Extract all lawyers' email and the website for their firm\n",
    "\n",
    "# Initialize empty lists to store email and website information\n",
    "email = []\n",
    "website = []\n",
    "\n",
    "# Iterate over each item in the 'email_website' list\n",
    "for item in email_website:\n",
    "    # Check if the item contains a comma\n",
    "    if ',' in item:\n",
    "        # Split the item at the comma and strip any leading/trailing whitespace from each part\n",
    "        parts = item.split(',')\n",
    "        email_part = parts[0].strip()\n",
    "        website_part = parts[1].strip()\n",
    "        \n",
    "        # Append the email part and website part to the respective lists\n",
    "        email.append(email_part)\n",
    "        website.append(website_part)\n",
    "    else:\n",
    "        # If there is no comma in the item, append an empty string to the email list\n",
    "        email.append('')\n",
    "        \n",
    "        # If the item has content after stripping leading/trailing whitespace, append it to the website list\n",
    "        # Otherwise, append an empty string to the website list\n",
    "        website.append(item.strip() if item.strip() else '')"
   ]
  },
  {
   "cell_type": "code",
   "execution_count": 22,
   "id": "9a43aae4",
   "metadata": {},
   "outputs": [
    {
     "name": "stdout",
     "output_type": "stream",
     "text": [
      "Last name:\n",
      "3952\n",
      "\n",
      "First name:\n",
      "3952\n",
      "\n",
      "Full name:\n",
      "3952\n",
      "\n",
      "Call to Bar:\n",
      "3952\n",
      "\n",
      "Firm:\n",
      "3952\n",
      "\n",
      "Address:\n",
      "3952\n",
      "\n",
      "Email:\n",
      "3952\n",
      "\n",
      "Website:\n",
      "3952\n"
     ]
    }
   ],
   "source": [
    "# Check for consistency of all cleaned data\n",
    "\n",
    "print(\"Last name:\")\n",
    "print(len(last_name))\n",
    "print(\"\\nFirst name:\")\n",
    "print(len(first_name))\n",
    "print(\"\\nFull name:\")\n",
    "print(len(full_name))\n",
    "print('\\nCall to Bar:')\n",
    "print(len(call_to_bar))\n",
    "print(\"\\nFirm:\")\n",
    "print(len(firm_name))\n",
    "print(\"\\nAddress:\")\n",
    "print(len(address))\n",
    "print(\"\\nEmail:\")\n",
    "print(len(email))\n",
    "print(\"\\nWebsite:\")\n",
    "print(len(website))"
   ]
  },
  {
   "cell_type": "code",
   "execution_count": 23,
   "id": "0a12d455",
   "metadata": {},
   "outputs": [],
   "source": [
    "# Put all data into a dataframe for visualization and analysis\n",
    "\n",
    "# Put all data into a dictionary\n",
    "data = {\n",
    "    'last_name': last_name,\n",
    "    'first_name': first_name,\n",
    "    'full_name': full_name,\n",
    "    'call_to_bar': call_to_bar,\n",
    "    'firm_name': firm_name,\n",
    "    'address': address,\n",
    "    'email': email,\n",
    "    'website': website\n",
    "}\n",
    "\n",
    "# Put dictionary into a dataframe\n",
    "df = pd.DataFrame(data)"
   ]
  },
  {
   "cell_type": "code",
   "execution_count": 24,
   "id": "c21ab93a",
   "metadata": {},
   "outputs": [
    {
     "data": {
      "text/html": [
       "<div>\n",
       "<style scoped>\n",
       "    .dataframe tbody tr th:only-of-type {\n",
       "        vertical-align: middle;\n",
       "    }\n",
       "\n",
       "    .dataframe tbody tr th {\n",
       "        vertical-align: top;\n",
       "    }\n",
       "\n",
       "    .dataframe thead th {\n",
       "        text-align: right;\n",
       "    }\n",
       "</style>\n",
       "<table border=\"1\" class=\"dataframe\">\n",
       "  <thead>\n",
       "    <tr style=\"text-align: right;\">\n",
       "      <th></th>\n",
       "      <th>last_name</th>\n",
       "      <th>first_name</th>\n",
       "      <th>full_name</th>\n",
       "      <th>call_to_bar</th>\n",
       "      <th>firm_name</th>\n",
       "      <th>address</th>\n",
       "      <th>email</th>\n",
       "      <th>website</th>\n",
       "    </tr>\n",
       "  </thead>\n",
       "  <tbody>\n",
       "    <tr>\n",
       "      <th>0</th>\n",
       "      <td>Samson</td>\n",
       "      <td>Michel</td>\n",
       "      <td>Michel Samson</td>\n",
       "      <td>Nov 28, 1998</td>\n",
       "      <td>Cox &amp; Palmer</td>\n",
       "      <td>Nova Centre, South Tower, 1500-1625 Grafton St...</td>\n",
       "      <td>msamson@coxandpalmer.com</td>\n",
       "      <td>https://www.coxandpalmerlaw.com</td>\n",
       "    </tr>\n",
       "    <tr>\n",
       "      <th>1</th>\n",
       "      <td>Sinclair</td>\n",
       "      <td>Ian</td>\n",
       "      <td>Ian Sinclair</td>\n",
       "      <td>Jun 10, 2011</td>\n",
       "      <td>Fasken Martineau DuMoulin LLP</td>\n",
       "      <td>550 Burrard Street, Suite 2900, Vancouver, BC ...</td>\n",
       "      <td>isinclair@fasken.com</td>\n",
       "      <td></td>\n",
       "    </tr>\n",
       "    <tr>\n",
       "      <th>2</th>\n",
       "      <td>Saunders</td>\n",
       "      <td>Paul</td>\n",
       "      <td>Paul Saunders</td>\n",
       "      <td>Jun 13, 2008</td>\n",
       "      <td>Stewart McKelvey</td>\n",
       "      <td>600-1741 Lower Water Street, PO Box 997, Halif...</td>\n",
       "      <td>psaunders@stewartmckelvey.com</td>\n",
       "      <td>http://www.stewartmckelvey.com</td>\n",
       "    </tr>\n",
       "    <tr>\n",
       "      <th>3</th>\n",
       "      <td>MacEachern</td>\n",
       "      <td>Duncan</td>\n",
       "      <td>Duncan MacEachern</td>\n",
       "      <td>Aug 09, 1985</td>\n",
       "      <td>Lorway MacEachern McLeod Burke</td>\n",
       "      <td>112 Charlotte Street, Sydney, NS B1P 1B9</td>\n",
       "      <td>northlaw@eastlink.ca</td>\n",
       "      <td>http://www.northlawcan.com/</td>\n",
       "    </tr>\n",
       "    <tr>\n",
       "      <th>4</th>\n",
       "      <td>Wedlake</td>\n",
       "      <td>David</td>\n",
       "      <td>David Wedlake</td>\n",
       "      <td>Jun 10, 2016</td>\n",
       "      <td>Stewart McKelvey</td>\n",
       "      <td>600-1741 Lower Water Street, PO Box 997, Halif...</td>\n",
       "      <td>dwedlake@stewartmckelvey.com</td>\n",
       "      <td>http://www.stewartmckelvey.com</td>\n",
       "    </tr>\n",
       "    <tr>\n",
       "      <th>...</th>\n",
       "      <td>...</td>\n",
       "      <td>...</td>\n",
       "      <td>...</td>\n",
       "      <td>...</td>\n",
       "      <td>...</td>\n",
       "      <td>...</td>\n",
       "      <td>...</td>\n",
       "      <td>...</td>\n",
       "    </tr>\n",
       "    <tr>\n",
       "      <th>3947</th>\n",
       "      <td>Fraser</td>\n",
       "      <td>Caitlin</td>\n",
       "      <td>Caitlin Fraser</td>\n",
       "      <td>Nov 19, 2021</td>\n",
       "      <td>Buildscale Inc. dba Vidyard</td>\n",
       "      <td>1 Queen Street, Unit 301, Kitchener, ON N2H 2G7</td>\n",
       "      <td>caitlin.fraser@vidyard.com</td>\n",
       "      <td>https://www.vidyard.com</td>\n",
       "    </tr>\n",
       "    <tr>\n",
       "      <th>3948</th>\n",
       "      <td>Payne</td>\n",
       "      <td>Cheryl</td>\n",
       "      <td>Cheryl Payne</td>\n",
       "      <td>Mar 16, 1982</td>\n",
       "      <td>Department of Justice (NS)</td>\n",
       "      <td>1690 Hollis Street, PO Box 7 STN Central, Hali...</td>\n",
       "      <td>cheryl.payne@novascotia.ca</td>\n",
       "      <td>http://novascotia.ca/just/</td>\n",
       "    </tr>\n",
       "    <tr>\n",
       "      <th>3949</th>\n",
       "      <td>Clark</td>\n",
       "      <td>Sheila</td>\n",
       "      <td>Sheila Clark</td>\n",
       "      <td>Feb 18, 1991</td>\n",
       "      <td></td>\n",
       "      <td></td>\n",
       "      <td></td>\n",
       "      <td></td>\n",
       "    </tr>\n",
       "    <tr>\n",
       "      <th>3950</th>\n",
       "      <td>Tam</td>\n",
       "      <td>Tony</td>\n",
       "      <td>Tony Tam KC</td>\n",
       "      <td>Aug 08, 1986</td>\n",
       "      <td>McInnes Cooper</td>\n",
       "      <td>1969 Upper Water Street, Suite 1300, McInnes C...</td>\n",
       "      <td>tony.tam@mcinnescooper.com</td>\n",
       "      <td>http://www.mcinnescooper.com/</td>\n",
       "    </tr>\n",
       "    <tr>\n",
       "      <th>3951</th>\n",
       "      <td>Adeniji</td>\n",
       "      <td>Adedoyin</td>\n",
       "      <td>Adedoyin Adeniji</td>\n",
       "      <td>Jan 20, 2023</td>\n",
       "      <td></td>\n",
       "      <td></td>\n",
       "      <td></td>\n",
       "      <td></td>\n",
       "    </tr>\n",
       "  </tbody>\n",
       "</table>\n",
       "<p>3952 rows × 8 columns</p>\n",
       "</div>"
      ],
      "text/plain": [
       "       last_name first_name          full_name   call_to_bar  \\\n",
       "0         Samson     Michel      Michel Samson  Nov 28, 1998   \n",
       "1       Sinclair        Ian       Ian Sinclair  Jun 10, 2011   \n",
       "2       Saunders       Paul      Paul Saunders  Jun 13, 2008   \n",
       "3     MacEachern     Duncan  Duncan MacEachern  Aug 09, 1985   \n",
       "4        Wedlake      David      David Wedlake  Jun 10, 2016   \n",
       "...          ...        ...                ...           ...   \n",
       "3947      Fraser    Caitlin     Caitlin Fraser  Nov 19, 2021   \n",
       "3948       Payne     Cheryl       Cheryl Payne  Mar 16, 1982   \n",
       "3949       Clark     Sheila       Sheila Clark  Feb 18, 1991   \n",
       "3950         Tam       Tony        Tony Tam KC  Aug 08, 1986   \n",
       "3951     Adeniji   Adedoyin   Adedoyin Adeniji  Jan 20, 2023   \n",
       "\n",
       "                           firm_name  \\\n",
       "0                       Cox & Palmer   \n",
       "1      Fasken Martineau DuMoulin LLP   \n",
       "2                   Stewart McKelvey   \n",
       "3     Lorway MacEachern McLeod Burke   \n",
       "4                   Stewart McKelvey   \n",
       "...                              ...   \n",
       "3947     Buildscale Inc. dba Vidyard   \n",
       "3948      Department of Justice (NS)   \n",
       "3949                                   \n",
       "3950                  McInnes Cooper   \n",
       "3951                                   \n",
       "\n",
       "                                                address  \\\n",
       "0     Nova Centre, South Tower, 1500-1625 Grafton St...   \n",
       "1     550 Burrard Street, Suite 2900, Vancouver, BC ...   \n",
       "2     600-1741 Lower Water Street, PO Box 997, Halif...   \n",
       "3              112 Charlotte Street, Sydney, NS B1P 1B9   \n",
       "4     600-1741 Lower Water Street, PO Box 997, Halif...   \n",
       "...                                                 ...   \n",
       "3947    1 Queen Street, Unit 301, Kitchener, ON N2H 2G7   \n",
       "3948  1690 Hollis Street, PO Box 7 STN Central, Hali...   \n",
       "3949                                                      \n",
       "3950  1969 Upper Water Street, Suite 1300, McInnes C...   \n",
       "3951                                                      \n",
       "\n",
       "                              email                          website  \n",
       "0          msamson@coxandpalmer.com  https://www.coxandpalmerlaw.com  \n",
       "1              isinclair@fasken.com                                   \n",
       "2     psaunders@stewartmckelvey.com   http://www.stewartmckelvey.com  \n",
       "3              northlaw@eastlink.ca      http://www.northlawcan.com/  \n",
       "4      dwedlake@stewartmckelvey.com   http://www.stewartmckelvey.com  \n",
       "...                             ...                              ...  \n",
       "3947     caitlin.fraser@vidyard.com          https://www.vidyard.com  \n",
       "3948     cheryl.payne@novascotia.ca       http://novascotia.ca/just/  \n",
       "3949                                                                  \n",
       "3950     tony.tam@mcinnescooper.com    http://www.mcinnescooper.com/  \n",
       "3951                                                                  \n",
       "\n",
       "[3952 rows x 8 columns]"
      ]
     },
     "execution_count": 24,
     "metadata": {},
     "output_type": "execute_result"
    }
   ],
   "source": [
    "# See dataframe\n",
    "df"
   ]
  },
  {
   "cell_type": "code",
   "execution_count": 25,
   "id": "8771be62",
   "metadata": {},
   "outputs": [
    {
     "data": {
      "text/plain": [
       "(3952, 8)"
      ]
     },
     "execution_count": 25,
     "metadata": {},
     "output_type": "execute_result"
    }
   ],
   "source": [
    "# Check dimensions of dataframe\n",
    "df.shape"
   ]
  },
  {
   "cell_type": "code",
   "execution_count": 26,
   "id": "533bb8cc",
   "metadata": {},
   "outputs": [
    {
     "name": "stdout",
     "output_type": "stream",
     "text": [
      "DataFrame saved as Nova Scotia Lawyer Scrape.csv successfully.\n"
     ]
    }
   ],
   "source": [
    "# Save dataframe to .CSV file\n",
    "\n",
    "filename = 'Nova Scotia Lawyer Scrape.csv'\n",
    "df.to_csv(filename, index=False)\n",
    "\n",
    "print(f\"DataFrame saved as {filename} successfully.\")"
   ]
  },
  {
   "cell_type": "code",
   "execution_count": null,
   "id": "8604f22e",
   "metadata": {},
   "outputs": [],
   "source": []
  }
 ],
 "metadata": {
  "kernelspec": {
   "display_name": "Python 3 (ipykernel)",
   "language": "python",
   "name": "python3"
  },
  "language_info": {
   "codemirror_mode": {
    "name": "ipython",
    "version": 3
   },
   "file_extension": ".py",
   "mimetype": "text/x-python",
   "name": "python",
   "nbconvert_exporter": "python",
   "pygments_lexer": "ipython3",
   "version": "3.9.7"
  }
 },
 "nbformat": 4,
 "nbformat_minor": 5
}
